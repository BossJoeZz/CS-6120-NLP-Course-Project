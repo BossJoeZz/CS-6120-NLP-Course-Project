{
 "cells": [
  {
   "cell_type": "code",
   "execution_count": 20,
   "metadata": {},
   "outputs": [],
   "source": [
    "import pandas as pd\n",
    "import re\n",
    "import torch\n",
    "import torch.nn as nn\n",
    "from bs4 import BeautifulSoup\n",
    "from nltk.tokenize import word_tokenize\n",
    "from torch.utils.data import Dataset, DataLoader\n",
    "from torch.nn.utils.rnn import pad_sequence\n",
    "import torch.optim as optim\n",
    "from sklearn.model_selection import train_test_split\n",
    "import numpy as np\n",
    "import matplotlib.pyplot as plt"
   ]
  },
  {
   "cell_type": "markdown",
   "metadata": {},
   "source": [
    "## 1. Read Dataset, Preprocessing, and Tokenization"
   ]
  },
  {
   "cell_type": "code",
   "execution_count": 21,
   "metadata": {},
   "outputs": [
    {
     "name": "stdout",
     "output_type": "stream",
     "text": [
      "50000\n"
     ]
    },
    {
     "name": "stderr",
     "output_type": "stream",
     "text": [
      "/var/folders/hc/9l8qbn_15_7147jg07lzs7vm0000gn/T/ipykernel_61371/1264676694.py:5: MarkupResemblesLocatorWarning: The input looks more like a filename than markup. You may want to open this file and pass the filehandle into Beautiful Soup.\n",
      "  text = BeautifulSoup(text, \"html.parser\").get_text() # Clean the HTML tags from the dataset, e.g. <br>\n"
     ]
    },
    {
     "name": "stdout",
     "output_type": "stream",
     "text": [
      "                                              review  sentiment\n",
      "0  one of the other reviewers has mentioned that ...          1\n",
      "1  a wonderful little production. the filming tec...          1\n",
      "2  i thought this was a wonderful way to spend ti...          1\n",
      "3  basically there's a family where a little boy ...          0\n",
      "4  petter mattei's love in the time of money is a...          1\n",
      "5  probably my alltime favorite movie a story of ...          1\n",
      "6  i sure would like to see a resurrection of a u...          1\n",
      "7  this show was an amazing fresh  innovative ide...          0\n",
      "8  encouraged by the positive comments about this...          0\n",
      "9  if you like original gut wrenching laughter yo...          1\n",
      "210633\n"
     ]
    }
   ],
   "source": [
    "text = pd.read_csv(\"IMDB Dataset.csv\")\n",
    "print(len(text))\n",
    "\n",
    "def preprocess_text(text):\n",
    "    text = BeautifulSoup(text, \"html.parser\").get_text() # Clean the HTML tags from the dataset, e.g. <br>\n",
    "    \n",
    "    text = re.sub(r'\\d', '#', text)  # Replace all digits with #\n",
    "    text = re.sub(r'\\r\\n', ' ', text)  # Replace newline characters with spaces\n",
    "    text = re.sub(r' +', ' ', text)  # Replace multiple spaces with a single space\n",
    "    text = re.sub(r'[^a-zA-Z\\s\\.\\%\\#\\']', '', text)  # Remove special characters except periods, %, and '\n",
    "    text = text.strip()  # Remove leading and trailing spaces\n",
    "    text = text.lower()  # Convert to lowercase\n",
    "    return text\n",
    "\n",
    "# Clean text\n",
    "text['review'] = text['review'].apply(preprocess_text)\n",
    "# Convert sentiment labels\n",
    "text['sentiment'] = text['sentiment'].map({'positive': 1, 'negative': 0})\n",
    "\n",
    "print(text.head(10))\n",
    "\n",
    "# tokenizing and get vocabulary size\n",
    "all_tokens = [word for review in text['review'] for word in word_tokenize(review)]\n",
    "vocab = sorted(set(all_tokens))\n",
    "ctoi = {c: i for i, c in enumerate(vocab)}  # token c to integer i map.\n",
    "vocab_size = len(ctoi)\n",
    "print(vocab_size)"
   ]
  },
  {
   "cell_type": "markdown",
   "metadata": {},
   "source": [
    "## 2.Convert each review to a Tensor"
   ]
  },
  {
   "cell_type": "code",
   "execution_count": 22,
   "metadata": {},
   "outputs": [],
   "source": [
    "def line_to_index_tensor(line):\n",
    "    return torch.tensor([ctoi[w] for w in word_tokenize(line) if w in ctoi], dtype=torch.long)\n",
    "text['input_ids'] = text['review'].apply(line_to_index_tensor)\n",
    "\n",
    "# Splitting into test dataset and train dataset\n",
    "train_data, test_data = train_test_split(text, test_size=0.2, random_state=42)\n",
    "\n",
    "device = torch.device(\"cuda\" if torch.cuda.is_available() else \"cpu\")\n",
    "\n",
    "class ReviewDataset(Dataset):\n",
    "    def __init__(self, texts, labels):\n",
    "        self.inputs = texts\n",
    "        self.labels = labels\n",
    "\n",
    "    def __len__(self):\n",
    "        return len(self.inputs)\n",
    "\n",
    "    def __getitem__(self, idx):\n",
    "        return self.inputs[idx], self.labels[idx]\n",
    "\n",
    "def collate_fn(batch):\n",
    "    inputs, labels = zip(*batch)\n",
    "    padded_inputs = pad_sequence(inputs, batch_first=True, padding_value=0)\n",
    "    return padded_inputs.to(device), torch.tensor(labels).to(device)\n",
    "\n",
    "batch_size = 64\n",
    "train_dataset = ReviewDataset(train_data['input_ids'].tolist(), train_data['sentiment'].tolist())\n",
    "test_dataset = ReviewDataset(test_data['input_ids'].tolist(), test_data['sentiment'].tolist())\n",
    "\n",
    "train_loader = DataLoader(train_dataset, batch_size=batch_size, shuffle=True, collate_fn=collate_fn)\n",
    "test_loader = DataLoader(test_dataset, batch_size=batch_size, shuffle=False, collate_fn=collate_fn)"
   ]
  },
  {
   "cell_type": "markdown",
   "metadata": {},
   "source": [
    "## 3. Define LSTM model"
   ]
  },
  {
   "cell_type": "code",
   "execution_count": 23,
   "metadata": {},
   "outputs": [],
   "source": [
    "class LSTM(nn.Module):\n",
    "    def __init__(self, vocab_size, embedding_dim, hidden_size, output_size):\n",
    "        super(LSTM, self).__init__()\n",
    "        self.embedding = nn.Embedding(vocab_size, embedding_dim)\n",
    "        self.lstm = nn.LSTM(embedding_dim, hidden_size, batch_first=True)\n",
    "        self.fc = nn.Linear(hidden_size, output_size)\n",
    "        self.softmax = nn.LogSoftmax(dim=1)\n",
    "\n",
    "    def forward(self, input_ids):\n",
    "        embedded = self.embedding(input_ids)               # shape: (batch_size, seq_len, embedding_dim)\n",
    "        output, (h_n, c_n) = self.lstm(embedded)           # h_n shape: (num_layers, batch_size, hidden_size)\n",
    "        final_hidden = h_n[-1]                             # final hidden state\n",
    "        out = self.fc(final_hidden)\n",
    "        return self.softmax(out)"
   ]
  },
  {
   "cell_type": "code",
   "execution_count": 24,
   "metadata": {},
   "outputs": [],
   "source": [
    "embedding_dim = 128\n",
    "hidden_size = 128\n",
    "output_size = 2  # \"positive\" or \"negative\"\n",
    "\n",
    "model = LSTM(vocab_size, embedding_dim, hidden_size, output_size).to(device)\n",
    "criterion = nn.NLLLoss()\n",
    "optimizer = optim.Adam(model.parameters(), lr=0.005)"
   ]
  },
  {
   "cell_type": "markdown",
   "metadata": {},
   "source": [
    "## 4. Define Train and Evaluate function"
   ]
  },
  {
   "cell_type": "code",
   "execution_count": 25,
   "metadata": {},
   "outputs": [],
   "source": [
    "def evaluate(model, data_loader, criterion, device):\n",
    "    model.eval()\n",
    "    total_loss = 0.0\n",
    "    correct = 0\n",
    "    total = 0\n",
    "\n",
    "    with torch.no_grad():\n",
    "        for inputs, labels in data_loader:\n",
    "            inputs, labels = inputs.to(device), labels.to(device)\n",
    "            outputs = model(inputs)\n",
    "            loss = criterion(outputs, labels)\n",
    "\n",
    "            total_loss += loss.item() * inputs.size(0)\n",
    "            preds = torch.argmax(outputs, dim=1)\n",
    "            correct += (preds == labels).sum().item()\n",
    "            total += labels.size(0)\n",
    "\n",
    "    avg_loss = total_loss / total\n",
    "    accuracy = correct / total\n",
    "    return avg_loss, accuracy"
   ]
  },
  {
   "cell_type": "code",
   "execution_count": 26,
   "metadata": {},
   "outputs": [],
   "source": [
    "import matplotlib.pyplot as plt\n",
    "\n",
    "def train(model, train_loader, test_loader, criterion, optimizer, device, num_epochs=5):\n",
    "    train_losses = []\n",
    "    test_losses = []\n",
    "    train_accuracies = []\n",
    "    test_accuracies = []\n",
    "\n",
    "    for epoch in range(num_epochs):\n",
    "        model.train()\n",
    "        total_loss = 0.0\n",
    "        correct = 0\n",
    "        total = 0\n",
    "\n",
    "        for inputs, labels in train_loader:\n",
    "            inputs, labels = inputs.to(device), labels.to(device)\n",
    "\n",
    "            optimizer.zero_grad()\n",
    "            outputs = model(inputs)\n",
    "            loss = criterion(outputs, labels)\n",
    "            loss.backward()\n",
    "            optimizer.step()\n",
    "\n",
    "            total_loss += loss.item() * inputs.size(0)\n",
    "            preds = torch.argmax(outputs, dim=1)\n",
    "            correct += (preds == labels).sum().item()\n",
    "            total += labels.size(0)\n",
    "\n",
    "        # Calculating loss and accuracy for training set\n",
    "        avg_train_loss = total_loss / total\n",
    "        avg_train_acc = correct / total\n",
    "\n",
    "        # Evaluating loss and accuracy for testing set\n",
    "        avg_test_loss, avg_test_acc = evaluate(model, test_loader, criterion, device)\n",
    "\n",
    "        train_losses.append(avg_train_loss)\n",
    "        train_accuracies.append(avg_train_acc)\n",
    "        test_losses.append(avg_test_loss)\n",
    "        test_accuracies.append(avg_test_acc)\n",
    "\n",
    "        # Print out results:\n",
    "        print(f\"Epoch {epoch+1}/{num_epochs}\")\n",
    "        print(f\"  Train Loss: {avg_train_loss:.4f}, Accuracy: {avg_train_acc:.4f}\")\n",
    "        print(f\"  Test  Loss: {avg_test_loss:.4f}, Accuracy: {avg_test_acc:.4f}\")\n",
    "        print(\"-\" * 50)\n",
    "\n",
    "    # Visulizing the results\n",
    "    epochs = list(range(1, num_epochs + 1))\n",
    "    plt.figure(figsize=(12, 5))\n",
    "\n",
    "    plt.subplot(1, 2, 1)\n",
    "    plt.plot(epochs, train_losses, label='Train Loss')\n",
    "    plt.plot(epochs, test_losses, label='Test Loss')\n",
    "    plt.xlabel('Epoch')\n",
    "    plt.ylabel('Loss')\n",
    "    plt.title('Loss over Epochs')\n",
    "    plt.legend()\n",
    "\n",
    "    plt.subplot(1, 2, 2)\n",
    "    plt.plot(epochs, train_accuracies, label='Train Accuracy')\n",
    "    plt.plot(epochs, test_accuracies, label='Test Accuracy')\n",
    "    plt.xlabel('Epoch')\n",
    "    plt.ylabel('Accuracy')\n",
    "    plt.title('Accuracy over Epochs')\n",
    "    plt.legend()\n",
    "\n",
    "    plt.tight_layout()\n",
    "    plt.show()"
   ]
  },
  {
   "cell_type": "markdown",
   "metadata": {},
   "source": [
    "## 5. Train LSTM model"
   ]
  },
  {
   "cell_type": "code",
   "execution_count": null,
   "metadata": {},
   "outputs": [],
   "source": [
    "train(model, train_loader, test_loader, criterion, optimizer, device, num_epochs=5)"
   ]
  },
  {
   "cell_type": "code",
   "execution_count": null,
   "metadata": {},
   "outputs": [
    {
     "data": {
      "text/plain": [
       "<Figure size 600x600 with 0 Axes>"
      ]
     },
     "metadata": {},
     "output_type": "display_data"
    },
    {
     "data": {
      "image/png": "[encoded data removed]",
      "text/plain": [
       "<Figure size 640x480 with 2 Axes>"
      ]
     },
     "metadata": {},
     "output_type": "display_data"
    }
   ],
   "source": [
    "import seaborn as sns\n",
    "from sklearn.metrics import confusion_matrix, ConfusionMatrixDisplay\n",
    "\n",
    "def plot_confusion_matrix(model, data_loader, device, class_names=[\"Negative\", \"Positive\"]):\n",
    "    model.eval()\n",
    "    all_preds = []\n",
    "    all_labels = []\n",
    "\n",
    "    with torch.no_grad():\n",
    "        for inputs, labels in data_loader:\n",
    "            inputs = inputs.to(device)\n",
    "            outputs = model(inputs)\n",
    "\n",
    "            if outputs.shape[1] == 2:\n",
    "                preds = torch.argmax(outputs, dim=1)\n",
    "            else:\n",
    "                preds = (torch.sigmoid(outputs) > 0.5).long().squeeze()  \n",
    "\n",
    "            all_preds.extend(preds.cpu().numpy())\n",
    "            all_labels.extend(labels.cpu().numpy())\n",
    "\n",
    "    # Compute confusion matrix\n",
    "    cm = confusion_matrix(all_labels, all_preds)\n",
    "    disp = ConfusionMatrixDisplay(confusion_matrix=cm, display_labels=class_names)\n",
    "\n",
    "    # Plot\n",
    "    plt.figure(figsize=(6, 6))\n",
    "    disp.plot(cmap=\"Blues\", values_format=\"d\")\n",
    "    plt.title(\"Confusion Matrix\")\n",
    "    plt.show()\n",
    "\n",
    "plot_confusion_matrix(model, test_loader, device, class_names=[\"Negative\", \"Positive\"])"
   ]
  },
  {
   "cell_type": "code",
   "execution_count": null,
   "metadata": {},
   "outputs": [
    {
     "name": "stdout",
     "output_type": "stream",
     "text": [
      "\n",
      " Classification Report:\n",
      "              precision    recall  f1-score   support\n",
      "\n",
      "    Negative     0.8461    0.7621    0.8019      4961\n",
      "    Positive     0.7867    0.8635    0.8233      5039\n",
      "\n",
      "    accuracy                         0.8132     10000\n",
      "   macro avg     0.8164    0.8128    0.8126     10000\n",
      "weighted avg     0.8161    0.8132    0.8127     10000\n",
      "\n"
     ]
    }
   ],
   "source": [
    "from sklearn.metrics import classification_report, precision_recall_fscore_support\n",
    "def evaluate_detailed_metrics(model, data_loader, device, class_names=[\"Negative\", \"Positive\"]):\n",
    "    model.eval()\n",
    "    all_preds = []\n",
    "    all_labels = []\n",
    "\n",
    "    with torch.no_grad():\n",
    "        for inputs, labels in data_loader:\n",
    "            inputs = inputs.to(device)\n",
    "            labels = labels.to(device)\n",
    "            outputs = model(inputs)\n",
    "\n",
    "            if outputs.shape[1] == 2:  \n",
    "                preds = torch.argmax(outputs, dim=1)\n",
    "            else: \n",
    "                preds = (torch.sigmoid(outputs) > 0.5).long().squeeze()\n",
    "\n",
    "            all_preds.extend(preds.cpu().numpy())\n",
    "            all_labels.extend(labels.cpu().numpy())\n",
    "\n",
    "    print(\"\\n Classification Report:\")\n",
    "    print(classification_report(all_labels, all_preds, target_names=class_names, digits=4))\n",
    "    \n",
    "    precision, recall, f1, support = precision_recall_fscore_support(all_labels, all_preds, average=None)\n",
    "    return precision, recall, f1, support\n",
    "\n",
    "precision, recall, f1, support = evaluate_detailed_metrics(model, test_loader, device)"
   ]
  },
  {
   "cell_type": "code",
   "execution_count": null,
   "metadata": {},
   "outputs": [],
   "source": []
  }
 ],
 "metadata": {
  "kernelspec": {
   "display_name": "Python 3",
   "language": "python",
   "name": "python3"
  },
  "language_info": {
   "codemirror_mode": {
    "name": "ipython",
    "version": 3
   },
   "file_extension": ".py",
   "mimetype": "text/x-python",
   "name": "python",
   "nbconvert_exporter": "python",
   "pygments_lexer": "ipython3",
   "version": "3.12.5"
  }
 },
 "nbformat": 4,
 "nbformat_minor": 2
}
